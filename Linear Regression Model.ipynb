{
 "cells": [
  {
   "cell_type": "markdown",
   "metadata": {},
   "source": [
    "# Assignment 1\n",
    "## Applied Machine Learning (BUAN 6341)\n",
    "\n",
    "### <font color='red'>Due Date: February 15, 2022 11:59pm</font> "
   ]
  },
  {
   "cell_type": "markdown",
   "metadata": {},
   "source": [
    "Deliverables:\n",
    "\n",
    "- Submit your answers to conceptual questions (described in another .pdf file) in a pdf file.\n",
    "- Write down your codes and discussions in the given cells described in this file.\n",
    "    - Cells for coding are denoted as \"YOUR CODE HERE\" \n",
    "    - Cells for discussions are denoted as \"YOUR DISCUSSIONS HERE\". Include \"#\" before each line of your discussions to comment out your wordings (i.e., not considered as code).\n",
    "    - If you need more cells to check temporary results, add a cell using the \"+\" button or shortcut \"esc + b\".\n",
    "- Submit two files: .pdf and .ipynb to eLearning.\n"
   ]
  },
  {
   "cell_type": "code",
   "execution_count": 128,
   "metadata": {},
   "outputs": [],
   "source": [
    "NAME = \"Anagha Sanjay Bhole\""
   ]
  },
  {
   "cell_type": "markdown",
   "metadata": {},
   "source": [
    "### Meet the Data and the Setting\n",
    "\n",
    "##### Background  \n",
    "Bike sharing systems are new generation of traditional bike rentals where whole process from membership, rental and return back has become automatic. Currently, there are about over 500 bike-sharing programs around the world which is composed of over 500 thousands bicycles.\n",
    "\n",
    "##### The Dataset\n",
    "\n",
    "We will be using the daily version of the Capital Bikeshare System dataset from the UCI Machine Learning Repository. This data set contains information about the daily count of bike rental checkouts in Washington, D.C.’s bikeshare program between 2011 and 2012. It also includes information about the weather and seasonal/temporal features for that day (like whether it was a weekday).\n",
    "- **day:** Day of the record (relative to day 1:2011-01-01)\n",
    "- **season:** Season (1:spring, 2:summer, 3:fall, 4:winter)\n",
    "- **weekday:** Day of the week (0=Sunday, 6=Saturday)\n",
    "- **workingday:** If day is neither weekend nor holiday is 1, otherwise is 0.\n",
    "- **weathersit:**<br>\n",
    "    - 1: Clear, Few clouds, Partly cloudy, Partly cloudy\n",
    "    - 2: Mist + Cloudy, Mist + Broken clouds, Mist + Few clouds, Mist\n",
    "    - 3: Light Snow, Light Rain + Thunderstorm + Scattered clouds, Light Rain + Scattered\n",
    "clouds\n",
    "- **temp:** Normalized temperature in Celcius\n",
    "- **windspeed:** Normalized wind speed\n",
    "- **casual:** Count of checkouts by casual/non-registered users\n",
    "- **registered:** Count of checkouts by registered users\n",
    "- **cnt:** Total checkouts\n",
    "\n",
    "##### Practice Prep\n",
    "The cells below imports basic packages as well as the bike-sharing dataset. The original dataset is loaded as Pandas DataFrame, and is named as 'daily'. Run and read through the cells below to obtain a general understanding of the data."
   ]
  },
  {
   "cell_type": "code",
   "execution_count": 129,
   "metadata": {},
   "outputs": [],
   "source": [
    "%matplotlib inline \n",
    "import numpy as np\n",
    "import pandas as pd\n",
    "import sklearn\n",
    "import matplotlib.pyplot as plt\n",
    "import seaborn as sns\n",
    "\n",
    "import warnings\n",
    "warnings.filterwarnings('ignore')"
   ]
  },
  {
   "cell_type": "code",
   "execution_count": 130,
   "metadata": {},
   "outputs": [
    {
     "data": {
      "text/html": [
       "<div>\n",
       "<style scoped>\n",
       "    .dataframe tbody tr th:only-of-type {\n",
       "        vertical-align: middle;\n",
       "    }\n",
       "\n",
       "    .dataframe tbody tr th {\n",
       "        vertical-align: top;\n",
       "    }\n",
       "\n",
       "    .dataframe thead th {\n",
       "        text-align: right;\n",
       "    }\n",
       "</style>\n",
       "<table border=\"1\" class=\"dataframe\">\n",
       "  <thead>\n",
       "    <tr style=\"text-align: right;\">\n",
       "      <th></th>\n",
       "      <th>day</th>\n",
       "      <th>season</th>\n",
       "      <th>weekday</th>\n",
       "      <th>workingday</th>\n",
       "      <th>weathersit</th>\n",
       "      <th>temp</th>\n",
       "      <th>windspeed</th>\n",
       "      <th>casual</th>\n",
       "      <th>registered</th>\n",
       "      <th>cnt</th>\n",
       "    </tr>\n",
       "  </thead>\n",
       "  <tbody>\n",
       "    <tr>\n",
       "      <th>0</th>\n",
       "      <td>1</td>\n",
       "      <td>1</td>\n",
       "      <td>6</td>\n",
       "      <td>0</td>\n",
       "      <td>2</td>\n",
       "      <td>0.344167</td>\n",
       "      <td>0.160446</td>\n",
       "      <td>331</td>\n",
       "      <td>654</td>\n",
       "      <td>985</td>\n",
       "    </tr>\n",
       "    <tr>\n",
       "      <th>1</th>\n",
       "      <td>2</td>\n",
       "      <td>1</td>\n",
       "      <td>0</td>\n",
       "      <td>0</td>\n",
       "      <td>2</td>\n",
       "      <td>0.363478</td>\n",
       "      <td>0.248539</td>\n",
       "      <td>131</td>\n",
       "      <td>670</td>\n",
       "      <td>801</td>\n",
       "    </tr>\n",
       "    <tr>\n",
       "      <th>2</th>\n",
       "      <td>3</td>\n",
       "      <td>1</td>\n",
       "      <td>1</td>\n",
       "      <td>1</td>\n",
       "      <td>1</td>\n",
       "      <td>0.196364</td>\n",
       "      <td>0.248309</td>\n",
       "      <td>120</td>\n",
       "      <td>1229</td>\n",
       "      <td>1349</td>\n",
       "    </tr>\n",
       "    <tr>\n",
       "      <th>3</th>\n",
       "      <td>4</td>\n",
       "      <td>1</td>\n",
       "      <td>2</td>\n",
       "      <td>1</td>\n",
       "      <td>1</td>\n",
       "      <td>0.200000</td>\n",
       "      <td>0.160296</td>\n",
       "      <td>108</td>\n",
       "      <td>1454</td>\n",
       "      <td>1562</td>\n",
       "    </tr>\n",
       "    <tr>\n",
       "      <th>4</th>\n",
       "      <td>5</td>\n",
       "      <td>1</td>\n",
       "      <td>3</td>\n",
       "      <td>1</td>\n",
       "      <td>1</td>\n",
       "      <td>0.226957</td>\n",
       "      <td>0.186900</td>\n",
       "      <td>82</td>\n",
       "      <td>1518</td>\n",
       "      <td>1600</td>\n",
       "    </tr>\n",
       "  </tbody>\n",
       "</table>\n",
       "</div>"
      ],
      "text/plain": [
       "   day  season  weekday  workingday  weathersit      temp  windspeed  casual  \\\n",
       "0    1       1        6           0           2  0.344167   0.160446     331   \n",
       "1    2       1        0           0           2  0.363478   0.248539     131   \n",
       "2    3       1        1           1           1  0.196364   0.248309     120   \n",
       "3    4       1        2           1           1  0.200000   0.160296     108   \n",
       "4    5       1        3           1           1  0.226957   0.186900      82   \n",
       "\n",
       "   registered   cnt  \n",
       "0         654   985  \n",
       "1         670   801  \n",
       "2        1229  1349  \n",
       "3        1454  1562  \n",
       "4        1518  1600  "
      ]
     },
     "execution_count": 130,
     "metadata": {},
     "output_type": "execute_result"
    }
   ],
   "source": [
    "import pandas as pd\n",
    "daily = pd.read_csv(\"/Users/anaghabhole/Downloads/day.csv\")\n",
    "daily.head()"
   ]
  },
  {
   "cell_type": "code",
   "execution_count": 131,
   "metadata": {},
   "outputs": [
    {
     "name": "stdout",
     "output_type": "stream",
     "text": [
      "Index(['day', 'season', 'weekday', 'workingday', 'weathersit', 'temp',\n",
      "       'windspeed', 'casual', 'registered', 'cnt'],\n",
      "      dtype='object')\n"
     ]
    }
   ],
   "source": [
    "print(daily.columns)"
   ]
  },
  {
   "cell_type": "markdown",
   "metadata": {},
   "source": [
    "**Question 1 : Data Exploration.** (12 points)\n",
    "\n",
    "- Plot the daily count of bikes that were checked out by **casual/non-registered** users (y) against the temperature (x). \n",
    "- Set the color based on whether it is a working day. Set transparency to 0.7. \n",
    "- Include appropriate labels for x-axis and y-axis, and colorbar. *Hint: use plt.colorbar(ticks = [0,1]) to change the ticks.*\n",
    "- What insights can you get?"
   ]
  },
  {
   "cell_type": "code",
   "execution_count": 145,
   "metadata": {},
   "outputs": [
    {
     "data": {
      "image/png": "[encoded data removed]",
      "text/plain": [
       "<Figure size 432x288 with 2 Axes>"
      ]
     },
     "metadata": {
      "needs_background": "light"
     },
     "output_type": "display_data"
    }
   ],
   "source": [
    "## YOUR CODE HERE ##\n",
    "\n",
    "x = daily['temp']\n",
    "y = daily['casual']\n",
    "\n",
    "plt.scatter(x,y, c = daily['workingday'], alpha = 0.7)\n",
    "plt.xlabel(\"temperature\")\n",
    "plt.ylabel(\"Check outs - Casual/Non-registered\")\n",
    "plt.colorbar(ticks = [0,1])\n",
    "plt.show()"
   ]
  },
  {
   "cell_type": "code",
   "execution_count": 133,
   "metadata": {},
   "outputs": [],
   "source": [
    "## YOUR DISCUSSION HERE ##\n",
    "\n",
    "# Yellow - Working day\n",
    "# Purple - Holiday\n",
    "\n",
    "# Insights:\n",
    "\n",
    "# 1. As the temperature increases, the count of casually checked out bikes also increases.\n",
    "# 2. The count of casually checked out bikes is more on the Holidays than on the working days."
   ]
  },
  {
   "cell_type": "markdown",
   "metadata": {},
   "source": [
    "## Regression\n",
    "\n",
    "In this section, you are supposed to complete TWO regression models, some in conjunction with grid search and CV. First, run the cells below to complete the data splitting step. "
   ]
  },
  {
   "cell_type": "code",
   "execution_count": 134,
   "metadata": {},
   "outputs": [],
   "source": [
    "# Define X and y\n",
    "var = ['temp','windspeed','season', 'weekday', 'workingday', 'weathersit']\n",
    "X = daily[var]\n",
    "y = daily['cnt']"
   ]
  },
  {
   "cell_type": "code",
   "execution_count": 135,
   "metadata": {},
   "outputs": [],
   "source": [
    "# Data splitting for training and test set\n",
    "from sklearn.model_selection import train_test_split\n",
    "X_train, X_test, y_train, y_test = train_test_split(X, y, random_state=42)"
   ]
  },
  {
   "cell_type": "markdown",
   "metadata": {},
   "source": [
    "**Question 2: Linear Regression**\n",
    "\n",
    "- Train a linear regression model. Report and specify clearly the estimated coefficients and intercept.   \n",
    "  *Hint: use print(\"The intercept is:\", INTERCEPT_RSLT) to specify the result reported is the intercept.*\n",
    "- Obtain the predicted y for (1) test set and (2) training set. Store the results properly.\n",
    "- Calculate and use print function to report (1) the MSE for test set and (2) the MSE for training set.\n",
    "- We have obtained two MSE values. Which one should we report as the unbiased performance measure?\n",
    "- Can you propose other potential measures for the model's performance? \n",
    "  *(Discussion only. No need to obtain the measure's value)*"
   ]
  },
  {
   "cell_type": "code",
   "execution_count": 136,
   "metadata": {},
   "outputs": [
    {
     "name": "stdout",
     "output_type": "stream",
     "text": [
      "The intercept is: 2093.4087280168737\n",
      "The coefficient is: [ 5245.48567189 -1995.73565252   412.66281476    76.77426589\n",
      "   132.20982981  -800.60943777]\n"
     ]
    }
   ],
   "source": [
    "# Train the model and report coefficients\n",
    "# YOUR CODE HERE \n",
    "from sklearn.linear_model import LinearRegression\n",
    "lr_model = LinearRegression()\n",
    "\n",
    "lr_model.fit(X_train, y_train)\n",
    "print(\"The intercept is:\", lr_model.intercept_) \n",
    "print(\"The coefficient is:\", lr_model.coef_) \n"
   ]
  },
  {
   "cell_type": "code",
   "execution_count": 137,
   "metadata": {},
   "outputs": [],
   "source": [
    "## Predict y for training and test set\n",
    "# YOUR CODE HERE\n",
    "\n",
    "y_test_pred = lr_model.predict(X_test)\n",
    "y_train_pred = lr_model.predict(X_train)"
   ]
  },
  {
   "cell_type": "code",
   "execution_count": 146,
   "metadata": {},
   "outputs": [
    {
     "name": "stdout",
     "output_type": "stream",
     "text": [
      "Mean Square Error - Test: 1816812.3742340659\n",
      "Mean Square Error - Train: 1852849.437356907\n"
     ]
    }
   ],
   "source": [
    "## Calculate and report the MSE for training and test\n",
    "# YOUR CODE HERE\n",
    "from sklearn.metrics import mean_squared_error\n",
    "\n",
    "#MSE for Test set\n",
    "mse_test = np.abs(mean_squared_error(y_test, y_test_pred))\n",
    "rmse_test = np.sqrt(mse_test)\n",
    "print(\"Mean Square Error - Test: {}\".format(mse_test))\n",
    "\n",
    "#MSE for Train set\n",
    "e = y_train - y_train_pred\n",
    "mse_train = np.sum(e**2)/y_train.shape[0]\n",
    "rmse_train = np.abs(np.sqrt(mse_train))\n",
    "print(\"Mean Square Error - Train: {}\".format(mse_train))"
   ]
  },
  {
   "cell_type": "code",
   "execution_count": 118,
   "metadata": {},
   "outputs": [],
   "source": [
    "## Discussion: Which is the unbiased performance measure? Can you propose other performance measures?\n",
    "\n",
    "# The unbiased performance measure is mse_test. If we predict the values of the training set using this model,\n",
    "# the model will score better on the MSE as the data is known to the model. The test set however, is unknown\n",
    "# to the model and hence will give unbiased results.\n",
    "\n",
    "# Other performance measures are RMSE(root mean squared error), MAE(Mean Absolute Error), R-square, Adjusted R-square"
   ]
  },
  {
   "cell_type": "markdown",
   "metadata": {},
   "source": [
    "**Question 3: Polynomial Regression**\n",
    "\n",
    "- Train a Polynomial regression model with grid search and 10-fold cross-validation. Let the grid of the hyperparameter be: [1,2,3]. Leave other parameters as default.\n",
    "- Report the hyperparameter chosen (i.e., the degree selected) and the mean of validation score of the chosen model.\n",
    "- Obtain the chosen model's unbiased performance (based on default measure, R-squared)."
   ]
  },
  {
   "cell_type": "code",
   "execution_count": 119,
   "metadata": {
    "scrolled": true
   },
   "outputs": [
    {
     "name": "stdout",
     "output_type": "stream",
     "text": [
      "Mean validation score of the best model: 0.46151790928788133\n",
      "Hyperparameter chosen: {'polynomialfeatures__degree': 1}\n",
      "Model's unbiased performance - R squared: 0.5285823895780064\n",
      "Time & Score of each hyperparameter, each iteration: {'mean_fit_time': array([0.00393023, 0.00205739, 0.00316606]), 'std_fit_time': array([0.00183139, 0.00028243, 0.0004597 ]), 'mean_score_time': array([0.00142686, 0.00081167, 0.00100675]), 'std_score_time': array([0.00035935, 0.00011406, 0.00054547]), 'param_polynomialfeatures__degree': masked_array(data=[1, 2, 3],\n",
      "             mask=[False, False, False],\n",
      "       fill_value='?',\n",
      "            dtype=object), 'params': [{'polynomialfeatures__degree': 1}, {'polynomialfeatures__degree': 2}, {'polynomialfeatures__degree': 3}], 'split0_test_score': array([0.32614579, 0.42296377, 0.44880339]), 'split1_test_score': array([0.45295325, 0.62418979, 0.63896038]), 'split2_test_score': array([ 0.49771732,  0.37486243, -0.08271642]), 'split3_test_score': array([0.58621828, 0.32781426, 0.50914895]), 'split4_test_score': array([ 0.5542634 ,  0.47232341, -1.38223445]), 'split5_test_score': array([0.55797455, 0.57723853, 0.58565067]), 'split6_test_score': array([ 0.17226052, -0.72563335, -3.52478345]), 'split7_test_score': array([ 0.46954239, -0.42695086, -0.99636583]), 'split8_test_score': array([0.50480413, 0.3505775 , 0.00824245]), 'split9_test_score': array([ 0.49329945, -0.09487566,  0.38550852]), 'mean_test_score': array([ 0.46151791,  0.19025098, -0.34097858]), 'std_test_score': array([0.11822992, 0.4302989 , 1.24628217]), 'rank_test_score': array([1, 2, 3], dtype=int32)}\n"
     ]
    }
   ],
   "source": [
    "# Train the model, and report the results\n",
    "# YOUR CODE HERE\n",
    "from sklearn.preprocessing import PolynomialFeatures\n",
    "from sklearn.model_selection import GridSearchCV\n",
    "from sklearn.pipeline import make_pipeline\n",
    "\n",
    "\n",
    "param_poly = {'polynomialfeatures__degree' :  range(1,4)  }\n",
    "\n",
    "# S2. Define estimator: use make_pipeline to combine two functions. \n",
    "\n",
    "lr_param = LinearRegression()\n",
    "poly_param = PolynomialFeatures()\n",
    "\n",
    "pipe_param = make_pipeline(poly_param, lr_param)\n",
    "\n",
    "# S3. Define GridSearchCV Estimation function, then train the model\n",
    "\n",
    "grid_poly = GridSearchCV(pipe_param, param_poly, cv = 10)\n",
    "grid_poly.fit(X_train, y_train)\n",
    "\n",
    "print(\"Mean validation score of the best model: {}\".format(grid_poly.best_score_))\n",
    "print(\"Hyperparameter chosen: {}\".format(grid_poly.best_params_))\n",
    "print(\"Model's unbiased performance - R squared: {}\".format(grid_poly.score(X_test, y_test)))\n",
    "print(\"Time & Score of each hyperparameter, each iteration: {}\".format(grid_poly.cv_results_))"
   ]
  },
  {
   "cell_type": "code",
   "execution_count": null,
   "metadata": {},
   "outputs": [],
   "source": []
  },
  {
   "cell_type": "code",
   "execution_count": null,
   "metadata": {},
   "outputs": [],
   "source": []
  },
  {
   "cell_type": "code",
   "execution_count": null,
   "metadata": {},
   "outputs": [],
   "source": []
  }
 ],
 "metadata": {
  "kernelspec": {
   "display_name": "Python 3 (ipykernel)",
   "language": "python",
   "name": "python3"
  },
  "language_info": {
   "codemirror_mode": {
    "name": "ipython",
    "version": 3
   },
   "file_extension": ".py",
   "mimetype": "text/x-python",
   "name": "python",
   "nbconvert_exporter": "python",
   "pygments_lexer": "ipython3",
   "version": "3.9.7"
  }
 },
 "nbformat": 4,
 "nbformat_minor": 2
}
